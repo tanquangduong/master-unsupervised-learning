{
 "cells": [
  {
   "cell_type": "markdown",
   "id": "1ba2f08c",
   "metadata": {},
   "source": [
    "# FPGrowth"
   ]
  },
  {
   "cell_type": "markdown",
   "id": "6c5742c0",
   "metadata": {},
   "source": [
    "## Required package"
   ]
  },
  {
   "cell_type": "code",
   "execution_count": 1,
   "id": "8ec6c4fd",
   "metadata": {},
   "outputs": [],
   "source": [
    "import pandas as pd\n",
    "import numpy as np\n",
    "import pyfpgrowth as fp"
   ]
  },
  {
   "cell_type": "markdown",
   "id": "09e795eb",
   "metadata": {},
   "source": [
    "# Dataset preparation"
   ]
  },
  {
   "cell_type": "code",
   "execution_count": 2,
   "id": "65cbe73a",
   "metadata": {},
   "outputs": [
    {
     "data": {
      "text/html": [
       "<div>\n",
       "<style scoped>\n",
       "    .dataframe tbody tr th:only-of-type {\n",
       "        vertical-align: middle;\n",
       "    }\n",
       "\n",
       "    .dataframe tbody tr th {\n",
       "        vertical-align: top;\n",
       "    }\n",
       "\n",
       "    .dataframe thead th {\n",
       "        text-align: right;\n",
       "    }\n",
       "</style>\n",
       "<table border=\"1\" class=\"dataframe\">\n",
       "  <thead>\n",
       "    <tr style=\"text-align: right;\">\n",
       "      <th></th>\n",
       "      <th>id</th>\n",
       "      <th>items</th>\n",
       "    </tr>\n",
       "  </thead>\n",
       "  <tbody>\n",
       "    <tr>\n",
       "      <th>0</th>\n",
       "      <td>0</td>\n",
       "      <td>[wickets, pads]</td>\n",
       "    </tr>\n",
       "    <tr>\n",
       "      <th>1</th>\n",
       "      <td>1</td>\n",
       "      <td>[bat, wickets, pads, helmet]</td>\n",
       "    </tr>\n",
       "    <tr>\n",
       "      <th>2</th>\n",
       "      <td>2</td>\n",
       "      <td>[helmet, pad]</td>\n",
       "    </tr>\n",
       "    <tr>\n",
       "      <th>3</th>\n",
       "      <td>3</td>\n",
       "      <td>[bat, pads, helmet]</td>\n",
       "    </tr>\n",
       "  </tbody>\n",
       "</table>\n",
       "</div>"
      ],
      "text/plain": [
       "   id                         items\n",
       "0   0               [wickets, pads]\n",
       "1   1  [bat, wickets, pads, helmet]\n",
       "2   2                 [helmet, pad]\n",
       "3   3           [bat, pads, helmet]"
      ]
     },
     "execution_count": 2,
     "metadata": {},
     "output_type": "execute_result"
    }
   ],
   "source": [
    "dict1 = {\n",
    "    'id':[0,1,2,3],\n",
    "    'items':[[\"wickets\",\"pads\"],\n",
    "    [\"bat\",\"wickets\",\"pads\",\"helmet\"],\n",
    "    [\"helmet\",\"pad\"],\n",
    "    [\"bat\",\"pads\",\"helmet\"]]\n",
    "    \n",
    "}\n",
    "transactionSet = pd.DataFrame(dict1)\n",
    "transactionSet"
   ]
  },
  {
   "cell_type": "markdown",
   "id": "2640761c",
   "metadata": {},
   "source": [
    "## Generating the frequent patterns and the rules"
   ]
  },
  {
   "cell_type": "code",
   "execution_count": 3,
   "id": "ae134e7e",
   "metadata": {},
   "outputs": [],
   "source": [
    "patterns = fp.find_frequent_patterns(transactionSet['items'],1)"
   ]
  },
  {
   "cell_type": "code",
   "execution_count": 4,
   "id": "275af7c6",
   "metadata": {},
   "outputs": [
    {
     "data": {
      "text/plain": [
       "{('pad',): 1,\n",
       " ('helmet', 'pad'): 1,\n",
       " ('wickets',): 2,\n",
       " ('pads', 'wickets'): 2,\n",
       " ('bat', 'wickets'): 1,\n",
       " ('helmet', 'wickets'): 1,\n",
       " ('bat', 'pads', 'wickets'): 1,\n",
       " ('helmet', 'pads', 'wickets'): 1,\n",
       " ('bat', 'helmet', 'wickets'): 1,\n",
       " ('bat', 'helmet', 'pads', 'wickets'): 1,\n",
       " ('bat',): 2,\n",
       " ('bat', 'helmet'): 2,\n",
       " ('bat', 'pads'): 2,\n",
       " ('bat', 'helmet', 'pads'): 2,\n",
       " ('pads',): 3,\n",
       " ('helmet',): 3,\n",
       " ('helmet', 'pads'): 2}"
      ]
     },
     "execution_count": 4,
     "metadata": {},
     "output_type": "execute_result"
    }
   ],
   "source": [
    "patterns"
   ]
  },
  {
   "cell_type": "code",
   "execution_count": 5,
   "id": "1de70f14",
   "metadata": {},
   "outputs": [
    {
     "data": {
      "text/plain": [
       "{('helmet',): (('pads',), 0.6666666666666666),\n",
       " ('pad',): (('helmet',), 1.0),\n",
       " ('pads',): (('helmet',), 0.6666666666666666),\n",
       " ('wickets',): (('bat', 'helmet', 'pads'), 0.5),\n",
       " ('bat',): (('helmet', 'pads'), 1.0),\n",
       " ('bat', 'pads'): (('helmet',), 1.0),\n",
       " ('bat', 'wickets'): (('helmet', 'pads'), 1.0),\n",
       " ('pads', 'wickets'): (('bat', 'helmet'), 0.5),\n",
       " ('helmet', 'pads'): (('bat',), 1.0),\n",
       " ('helmet', 'wickets'): (('bat', 'pads'), 1.0),\n",
       " ('bat', 'helmet'): (('pads',), 1.0),\n",
       " ('bat', 'helmet', 'pads'): (('wickets',), 0.5),\n",
       " ('bat', 'helmet', 'wickets'): (('pads',), 1.0),\n",
       " ('bat', 'pads', 'wickets'): (('helmet',), 1.0),\n",
       " ('helmet', 'pads', 'wickets'): (('bat',), 1.0)}"
      ]
     },
     "execution_count": 5,
     "metadata": {},
     "output_type": "execute_result"
    }
   ],
   "source": [
    "rules = fp.generate_association_rules(patterns,0.3)\n",
    "rules"
   ]
  },
  {
   "cell_type": "code",
   "execution_count": null,
   "id": "e9d63150",
   "metadata": {},
   "outputs": [],
   "source": []
  }
 ],
 "metadata": {
  "kernelspec": {
   "display_name": "Python 3 (ipykernel)",
   "language": "python",
   "name": "python3"
  },
  "language_info": {
   "codemirror_mode": {
    "name": "ipython",
    "version": 3
   },
   "file_extension": ".py",
   "mimetype": "text/x-python",
   "name": "python",
   "nbconvert_exporter": "python",
   "pygments_lexer": "ipython3",
   "version": "3.10.10"
  }
 },
 "nbformat": 4,
 "nbformat_minor": 5
}
